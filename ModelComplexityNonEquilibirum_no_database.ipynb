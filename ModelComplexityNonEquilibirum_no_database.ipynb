{
 "cells": [
  {
   "cell_type": "code",
   "execution_count": 4,
   "id": "80c58147",
   "metadata": {},
   "outputs": [
    {
     "data": {
      "application/javascript": [
       "MathJax.Hub.Config({\n",
       "    TeX: { equationNumbers: { autoNumber: \"AMS\" } }\n",
       "});\n"
      ],
      "text/plain": [
       "<IPython.core.display.Javascript object>"
      ]
     },
     "metadata": {},
     "output_type": "display_data"
    }
   ],
   "source": [
    "%%javascript\n",
    "MathJax.Hub.Config({\n",
    "    TeX: { equationNumbers: { autoNumber: \"AMS\" } }\n",
    "});\n"
   ]
  },
  {
   "cell_type": "markdown",
   "id": "69962078",
   "metadata": {},
   "source": [
    "## Section 1: Model complexity for non-equilibirum dynamics\n",
    "\n",
    "Here I sketch the derivation of Model Complexity for a non-equilibrium Langevin dynamics. This derivation is based on the results of Haas et. al., \"Analysis of Trajectory Entropy for Continuous Stochastic Processes at Equilibrium\" (2014).\n",
    "\n",
    "\n",
    "Our goal is to calculate KL divergence between the trajectories generated from a distribution of interest $\\mathcal{P}[X(t)]$ and trajectories generated from the reference distribution $\\mathcal{Q}[X(t)]$ (almost the same as Eq. (1) in Haas paper):\n",
    "\\begin{equation}\\label{eq1}\n",
    "S\\equiv-\\int_0^{\\infty}\\mathcal{D}X(t)\\mathcal{P}[X(t)]\\ln\\frac{\\mathcal{P}[X(t)]}{\\mathcal{P}[X(t)]}.\n",
    "\\end{equation}\n",
    "Here we take the integral until infinity, but in numerical calculations we just need to integrate until sufficiently large time so that nearly all of the trajectories are absorbed, and both probabilities are close to zero. Following Haas, we discretize the path into time intervals $\\Delta t$ and take the continuum limit $\\Delta t \\to 0$ (same as Eq.(3) in Haas paper):\n",
    "\\begin{equation}\\label{eq2}\n",
    "    S=\\lim_{\\Delta t \\to 0} -\\int dx_0 \\int dx_1 \\cdots \\int dx_N P(X)\\ln \\frac{P(X)}{Q(X)}.\n",
    "\\end{equation}\n",
    "Following Haas paper, we use Markov factorization $P(X)=p(x_0)\\prod_{\\tau=0}^N p(x_{\\tau+1}|x_\\tau)$, and the same thing for $Q(X)$. As a result, we obtain (same as Eq. (4) in Haas paper, and also dropping the limit for clarity/conciseness, and also correcting Haas's typo highlighted in red):\n",
    "\\begin{equation}\\label{eq3}\n",
    "S=-\\int\\left(\\prod_{\\tau'=0}^Ndx_{\\tau'}\\color{red}{dx_{N+1}}p(x_0)p(x_{\\tau'+1}|x_{\\tau'})\\right)\\left(\\ln\\frac{p(x_0)}{q(x_0)}+\\sum_{\\tau=0}^N\\ln\\frac{p(x_{\\tau+1}|x_{\\tau})}{q(x_{\\tau+1}|x_{\\tau})}\\right).\n",
    "\\end{equation}\n",
    "This integral can be reqorganized (similar to Eq.(5) in Haas, but he has a typo and there is a term missing. The missing term is highlighted in red):\n",
    "\n",
    "\\begin{eqnarray}\\label{eq4}\n",
    "S&=-\\sum_{\\tau=0}^N\\int dx_{\\tau+1}dx_\\tau p(x_{\\tau+1}|x_\\tau) \\ln\\frac{p(x_{\\tau+1}|x_{\\tau})}{q(x_{\\tau+1}|x_{\\tau})} \\left(\\int \\prod_{\\substack{\\tau'\\neq\\tau \\\\ \\tau'\\neq \\tau+1}}^Ndx_{\\tau'}dx_{N+1}p(x_0)p(x_{\\tau'+1}|x_{\\tau'})\\color{red}{p(x_{\\tau+2}|x_{\\tau+1})}\\right)  \\\\ \\nonumber\n",
    "&- \\int dx_0\\left(\\int\\prod_{\\tau'=1}^Ndx_{\\tau'}dx_{N+1}p(x_0)p(x_{\\tau'+1}|x_{\\tau'})\\right)\\ln\\frac{p(x_0)}{q(x_0)}\n",
    "\\end{eqnarray}\n",
    "\n",
    "We can simplify some of the terms in Eq. (\\ref{eq4}):\n",
    "\\begin{eqnarray}\\label{eq5}\n",
    "&\\int \\prod_{\\substack{\\tau'\\neq\\tau \\\\ \\tau'\\neq \\tau+1}}^Ndx_{\\tau'}dx_{N+1}p(x_0)p(x_{\\tau'+1}|x_{\\tau'})p(x_{\\tau+2}|x_{\\tau+1})= \\\\ \\nonumber\n",
    "&= \\left(\\int dx_{\\tau+2} p(x_{\\tau+2}|x_{\\tau+1})\\cdots\\left(\\int dx_N p(x_{N}|x_{N-1})\\left(\\int dx_{N+1}p(x_{N+1}|x_{N})\\right)\\right)\\cdots\\right)\\times \\\\ \\nonumber\n",
    "&\\times \\left(\\int dx_{\\tau-1} p(x_{\\tau}|x_{\\tau-1})\\cdots\\left(\\int dx_1 p(x_{2}|x_{1})\\left(\\int dx_{0}p(x_{1}|x_{0})p(x_0)\\right)\\right)\\cdots\\right) = p(x_{\\tau}).\n",
    "\\end{eqnarray}\n",
    "\n",
    "\\begin{eqnarray}\\label{eq6}\n",
    "&\\int\\prod_{\\tau'=1}^Ndx_{\\tau'}dx_{N+1}p(x_0)p(x_{\\tau'+1}|x_{\\tau'})= \\\\ \\nonumber\n",
    "&=p(x_0)\\left(\\int dx_{1} p(x_2|x_1)\\cdots\\left(\\int dx_N p(x_{N}|x_{N-1})\\left(\\int dx_{N+1}p(x_{N+1}|x_{N})\\right)\\right)\\cdots\\right)=p(x_0)\n",
    "\\end{eqnarray}\n",
    "\n",
    "Substituting Eq. (\\ref{eq5}) and Eq. (\\ref{eq6}) into Eq. (\\ref{eq4}), we obtain (cf. Eq. (6) in the paper):\n",
    "\\begin{equation}\\label{eq7}\n",
    "S = -\\sum_{\\tau=0}^N \\int dx_\\tau dx_{\\tau+1} p(x_{\\tau+1},x_\\tau) \\ln\\frac{p(x_{\\tau+1}|x_{\\tau})} {q(x_{\\tau+1}|x_{\\tau})} - \\int dx_0 p(x_0) \\ln \\frac{p(x_0)}{q(x_0)}\n",
    "\\end{equation}\n",
    "Since we are working with non-equilibrium dynamics, the terms under the sum are not identical (as the probability distribution is evolving). Therefore, we cannot replace sum with $t_{obs}/\\Delta t$ coefficient, but we have to take a sum over the time-varying distributions $p$ and $q$. Also, at $t=0$ these distributions are given initial distributions that are different from the equilibirum distributions.\n",
    "\n",
    "Following Haas, we denote the second term in Eq. (\\ref{eq7}) as $S_{\\rm eq}$. This term can be calculated numerically in a streight-forward fashion. For reference distribution we may choose some wide unspecific distribution that is zero on the boundaries, such as cosyne squared.\n",
    "\n",
    "Following Haas, we rewrite Eq. (\\ref{eq7}) through the following terms:\n",
    "\\begin{equation}\\label{eq8}\n",
    "S = S_{\\rm eq}+\\lim_{\\Delta t \\to 0}\\sum_{\\Delta t} S_{\\rm KL}(\\Delta t,\\tau) = S_{eq} +\\int_{0}^{\\infty}d\\tau \\lim_{\\Delta t \\to 0} \\frac{S_{\\rm KL}(\\Delta t, \\tau)}{\\Delta t} ,\n",
    "\\end{equation}\n",
    "where:\n",
    "\\begin{equation}\\label{eq9}\n",
    "S_{\\rm KL} (\\Delta t, \\tau) = -\\int dx_\\tau dx_{\\tau+\\Delta t} p(x_{\\tau+\\Delta t},x_\\tau) \\ln\\frac{p(x_{\\tau+\\Delta t}|x_{\\tau})} {q(x_{\\tau+\\Delta t}|x_{\\tau})}\n",
    "\\end{equation}\n",
    "\n",
    "Following Haas, we replcace the limit with time derivative and $t=\\tau$:\n",
    "\\begin{eqnarray}\\label{eq10}\n",
    "&\\lim_{\\Delta t \\to 0} \\frac{S_{\\rm KL}(\\Delta t,\\tau)}{\\Delta t} = -\\frac{\\partial\\left(\\int dx_\\tau dx_{\\tau+ t} p(x_{\\tau+t},x_\\tau) \\ln\\frac{p(x_{\\tau+t}|x_{\\tau})} {q(x_{\\tau+t}|x_{\\tau})}\\right)}{\\partial t}\\Biggr|_{ t=0} = \\\\\n",
    "&= -\\mathop{\\mathbb{E}}_{p(x_\\tau)}\\left[\\frac{\\partial}{\\partial t}\\left(\\int dx_{t+\\tau}p(x_{\\tau+t}|x_\\tau) \\ln\\frac{p(x_{\\tau+t}|x_{\\tau)}}{q(x_{\\tau+t}|x_{\\tau})}\\right)\\Biggr|_{ t=0}\\right]\n",
    "\\end{eqnarray}\n",
    "\n",
    "Following Haas, we interchange time derivative with an integral:, \n",
    "\\begin{eqnarray}\\label{eq11}\n",
    "&\\frac{\\partial}{\\partial t}\\left(\\int dx_{t+\\tau}p(x_{\\tau+t}|x_\\tau) \\ln\\frac{p(x_{\\tau+t}|x_{\\tau)}}{q(x_{\\tau+t}|x_{\\tau})}\\right) = \\\\\n",
    "&= \\int dx_{t+\\tau}\\left[\\frac{\\partial}{\\partial t}\\left(p(x_{\\tau+t}|x_\\tau) \\ln\\frac{p(x_{\\tau+t}|x_{\\tau)}}{q(x_{\\tau+t}|x_{\\tau})}\\right)\\Biggr|_{t=0}\\right] \n",
    "\\end{eqnarray}\n",
    "The time derivatives are:\n",
    "\\begin{eqnarray}\\label{eq12}\n",
    "&\\frac{\\partial}{\\partial t}\\left(p(x_{\\tau+t}|x_\\tau) \\ln\\frac{p(x_{\\tau+t}|x_{\\tau)}}{q(x_{\\tau+t}|x_{\\tau})}\\right)\\Biggr|_{t=0} = \\frac{\\partial p(x_{\\tau+t}|x_\\tau) }{\\partial t}\\ln\\frac{p(x_{\\tau+t}|x_{\\tau)}}{q(x_{\\tau+t}|x_{\\tau})} + \\\\\n",
    "&+\\frac{1}{q(x_{\\tau+t}|x_\\tau)} \\left(\\frac{\\partial p(x_{\\tau+t}|x_\\tau) }{\\partial t}q(x_{\\tau+t}|x_\\tau) - \\frac{\\partial q(x_{\\tau+t}|x_\\tau) }{\\partial t}p(x_{\\tau+t}|x_\\tau)\\right)  \\Biggr|_{t=0} = \\\\\n",
    "&=\\left(\\frac{\\partial p(x_{\\tau+t}|x_\\tau) }{\\partial t} - \\frac{\\partial q(x_{\\tau+t}|x_\\tau) }{\\partial t}\\right)  \\Biggr|_{t=0},\n",
    "\\end{eqnarray}\n",
    "where in the transition we used that for $t=0$, $p(x_{\\tau+t}|x_{\\tau})=q(x_{\\tau+t}|x_{\\tau})=\\delta(x_{\\tau+t}-x_{\\tau})$.\n",
    "\n",
    "Eqs. (\\ref{eq10}), (\\ref{eq11}), (\\ref{eq12}) bring us to the following result (cf. Eq. (12) in the paper):\n",
    "\\begin{equation}\\label{eq13}\n",
    "\\lim_{\\Delta t \\to 0} \\frac{S_{\\rm KL}(\\Delta t,\\tau)}{\\Delta t} =-\\mathop{\\mathbb{E}}_{p(x_\\tau)} \\left[\\int dx_{t+\\tau} \\left(\\frac{\\partial p(x_{\\tau+t}|x_\\tau) }{\\partial t} - \\frac{\\partial q(x_{\\tau+t}|x_\\tau) }{\\partial t}\\right)  \\Biggr|_{t=0}\\right]\n",
    "\\end{equation}\n",
    "\n",
    "Next we use the Fokker-Planck equation for time-dependent probability distributions:\n",
    "\\begin{equation}\\label{eq14}\n",
    "\\frac{\\partial p(x_t|x_0)}{\\partial t} = \\frac{\\partial}{\\partial x_t} \\left(D\\frac{\\partial p(x_t|x_0)}{\\partial x_t}-DF(x_t)p(x_t|x_0)\\right)\n",
    "\\end{equation}\n",
    "\n",
    "However, instead of Eq. (\\ref{eq14}), Haas suggests to use a scaled version ($\\rho(x_t,x_0)=p(x_t|x_0) p_{\\rm eq}(x_0)/\\sqrt{p_{\\rm eq}x_t}$, note a error in the paper where peq(x0) is under the square root ). The FP equation for the rescaled version reads:\n",
    "\\begin{equation}\\label{eq15}\n",
    "\\frac{\\partial \\rho(x_t,x_0)}{\\partial t} = D\\frac{\\partial^2 \\rho(x_t,x_0)}{\\partial x_t^2} - \\left(\\frac{F^2(x_t)D}{4}+\\frac{F'(x_t)D}{2}\\right)\\rho(x_t,x_0).\n",
    "\\end{equation}\n",
    "\n",
    "It is not clear why Eq. (\\ref{eq15}) can be substitued into Eq. (\\ref{eq13}) directly, since the normalizations $(p(x_t))^{1/2}$ are different for $p$ and $q$ distribution. Therefore, the coefficients in front of the two terms in Eq. (\\ref{eq13}) will be different, and the second derivatives will not cancel out as Haas suggests. It is not clear how to do a correct derivation. However, assuming that this step can be made, we substitute Eq. (\\ref{eq15}) in to Eq. (\\ref{eq13}) and assuming $p$ and $q$ have the same diffusion, and also that $q$ has zero Force, we are left with the follwing equation (where the limit $t\\to 0$ is evaluated by substituting a delta function):\n",
    "\\begin{equation}\\label{eq16}\n",
    "\\lim_{\\Delta t \\to 0} \\frac{S_{\\rm KL}(\\Delta t,\\tau)}{\\Delta t} =\\mathop{\\mathbb{E}}_{p(x_\\tau)} \\left[\\int dx_t \\left(\\frac{F^2(x_t)D}{4}+\\frac{F'(x_t)D}{2}\\right)\\delta(x_t-x_0)\\right].\n",
    "\\end{equation}\n",
    "In Eq. (\\ref{eq16}) we can evaluate the integral over $x_t$ to obtain:\n",
    "\\begin{equation}\\label{eq17}\n",
    "\\lim_{\\Delta t \\to 0} \\frac{S_{\\rm KL}(\\Delta t,\\tau)}{\\Delta t} =\\int dx_0 p_\\tau (x_0)\\left(\\frac{F^2(x_0)D}{4}+\\frac{F'(x_0)D}{2}\\right).\n",
    "\\end{equation}\n",
    "Note that in Eq. (\\ref{eq17}) the distribution $p_\\tau (x)$ dependes on the time $\\tau$ and is not equal to the equlibrium distribution. Thus, this equation is NOT equvivalent to the following result obtained in the paper:\n",
    "\\begin{equation}\\label{eq18}\n",
    "\\lim_{\\Delta t \\to 0} \\frac{S_{\\rm KL}(\\Delta t,\\tau)}{\\Delta t} =-\\frac{D}{4}\\int dx_0 p_\\tau (x_0)F^2(x_0).\n",
    "\\end{equation}\n",
    "\n",
    "The full entropy can be obtained by Eq. (\\ref{eq8}):\n",
    "\\begin{equation}\\label{eq19}\n",
    "S = S_{eq} +\\int_{0}^{\\infty}d\\tau \\lim_{\\Delta t \\to 0} \\frac{S_{\\rm KL}(\\Delta t,\\tau)}{\\Delta t} ,\n",
    "\\end{equation}\n",
    "Where the first term is KL-divergence between the initial distributions $p_0(x)$ and $q_0(x)$, and the second term was evaluated in Haas paper (but we are not sure whether the derivation is correct) by Eq. (\\ref{eq17}) or (\\ref{eq18}) which could not hold for our non-equlibrium case.\n",
    "\n"
   ]
  },
  {
   "cell_type": "markdown",
   "id": "57386177",
   "metadata": {},
   "source": [
    "## Section 2: Numerical simulations\n",
    "\n",
    "### Evaluating space-time integrals\n",
    "Eq. (22),(23) suggest we need to be able to evaluate space-time integrals (STI) like the following one:\n",
    "\\begin{equation}\n",
    "{\\rm STI} = \\int_0^\\infty dt\\int_{-1}^1 dx p(x,t)F^2(x)\n",
    "\\end{equation}\n",
    "\n",
    "These expressions can be evaluated by using the symmetric FPE Eq. (19) for the scaled probability density, where the r.h.s. is represented by the operator $-\\boldsymbol{\\mathcal{H}}$ and where we switch to the eigenbasis of this operator: \n",
    "\\begin{eqnarray}\\label{eq1}\n",
    "{\\rm STI} = \\int_0^\\infty dt\\int_{-1}^1 dx p(x,t)F^2(x) = \\int_0^\\infty dt\\int_{-1}^1 dx \\rho_0(x)e^{-\\boldsymbol{\\mathcal{H}}t}F^2(x)\\sqrt{p_{\\rm eq}(x)} = \\\\\n",
    "= \\int_0^\\infty dt \\int_{-1}^1 dx \\sum_k \\Psi_k(x) \\rho_{0,k} e^{-\\lambda_k t}\\sum_l \\Psi_l(x)(F^2\\sqrt{p_{\\rm eq}})_l = \\sum_k \\frac{\\rho_{0,k} (F^2\\sqrt{p_{\\rm eq}})_k}{\\lambda_k},\n",
    "\\end{eqnarray}\n",
    "where we took the time integral analytically, and also used the orthnormal properties of the egenfunctions $\\Psi_k(x)$.\n",
    "\n",
    "Thus, to calculate space-time integral of any function $g(x)$, we multiply it by $\\sqrt{p_{\\rm eq}(x)}$, transform it into the dark basis, we also transform into the dark basis scaled initial probability distribution $\\rho_{0}(x)=p_0(x)/\\sqrt{p_{eq}(x)}$, and then sum up the product of these two terms divided by the eigenvalues.\n",
    "\n",
    "We can check that Eq. (\\ref{eq1}) works in practice by generating a trajectory from the some dynamics, and then computing the function (such as $F^2(x)$) along these trajectories: $<F^2(x)>_{X(t)}=(1/t_{\\rm trial})\\sum_l F^2(x_l)$, where the summation is carried out along all of the generated trajectories, and $t_{\\rm trial}$ is an average trial duration. This should give us the same results, as Eq. (\\ref{eq1})."
   ]
  },
  {
   "cell_type": "code",
   "execution_count": 1,
   "id": "e428d603",
   "metadata": {},
   "outputs": [],
   "source": [
    "# 1) git clone brain_flow package\n",
    "# 2) git checkout public\n",
    "# 3) go to brain_flow/energy_model and run compile.sh\n",
    "# 4) Add to path\n",
    "\n",
    "import sys\n",
    "#sys.path.append('/Users/mikhailgenkin/temp/BrainFlow')"
   ]
  },
  {
   "cell_type": "code",
   "execution_count": 2,
   "id": "5fad7dbf",
   "metadata": {},
   "outputs": [],
   "source": [
    "import neuralflow"
   ]
  },
  {
   "cell_type": "code",
   "execution_count": 3,
   "id": "3d611d37",
   "metadata": {},
   "outputs": [],
   "source": [
    "import os, json, numpy as np\n",
    "# from FiringRatesModeling.MyDBClass import myDB\n",
    "\n",
    "#trying to solve the c_get_gamma.pyx \n",
    "# from setuptools import setup\n",
    "# from Cython.Build import cythonize\n",
    "# sys.path.append('BrainFlow/brain_flow/energy_model')\n",
    "# setup(ext_modules=cythonize('c_get_gamma.pyx'))\n",
    "\n",
    "from neuralflow import energy_model\n",
    "\n",
    "em_gt = energy_model.EnergyModel(peq_model={\"model\": \"linear_pot\",\n",
    "                                           \"params\": {\"slope\": -2.65}}, \n",
    "                                 pde_solve = energy_model.PDESolve(Np=8,Ne=32),\n",
    "                                 \n",
    "                                p0_model={\"model\":\"cos_square\",\"params\": {}},\n",
    "                                )\n",
    "\n",
    "lQ, _, Qx = em_gt.pde_solve_.solve_EV(em_gt.peq_[0], em_gt.D_[0], q=None, w=em_gt.peq_[0], mode='h0', fr=None, Nv=em_gt.Nv)\n",
    "Force=em_gt.dmat_d.dot(np.log(em_gt.peq_[0]))"
   ]
  },
  {
   "cell_type": "code",
   "execution_count": 4,
   "id": "73d96ccb",
   "metadata": {},
   "outputs": [
    {
     "name": "stdout",
     "output_type": "stream",
     "text": [
      "S2 term evaluated by Eq. 8,9: 9.624839108671852\n",
      "S2 term evaluated by Eq. 8,21: -341037600207.63824\n",
      "S2 term evaluated by Eq. 8,22: 341037600206.5334\n"
     ]
    }
   ],
   "source": [
    "#First, let us evaluate the second term in Eq. (8) by using Eq. (9)\n",
    "deltaT = 0.001\n",
    "t_terminal = 10\n",
    "#Calculate transition probability for the model of interest p(x_{tau+delta t}|x_{tau}) \n",
    "# by translating e^-lambda*t into SEM basis\n",
    "p = Qx.dot(np.diag(np.exp(-lQ*deltaT))).dot(Qx.T).dot(np.diag(em_gt.w_d))\n",
    "#Need also to rescale it back by sqrt(peq(xt)) and sqrt(peq(x0))\n",
    "p = np.sqrt(em_gt.peq_[0,:,np.newaxis])*p/np.sqrt(em_gt.peq_[0])\n",
    "#Also get rid of embedded weights\n",
    "p=p/em_gt.w_d\n",
    "#For numerical stability of KL divergence\n",
    "p[p<10**-10]=10**-10\n",
    "\n",
    "#Calculate the same thing for the reference model with constant peq\n",
    "qeq = 0.5*np.ones_like(em_gt.x_d)\n",
    "lQ2, QxOrig2, Qx2 = em_gt.pde_solve_.solve_EV(qeq, em_gt.D, q=None, w=qeq, mode='h0', fr=None, Nv=em_gt.Nv)\n",
    "q = Qx2.dot(np.diag(np.exp(-lQ2*deltaT))).dot(Qx2.T).dot(np.diag(em_gt.w_d))\n",
    "q = np.sqrt(qeq[:,np.newaxis])*q/np.sqrt(qeq)\n",
    "q=q/em_gt.w_d\n",
    "q[q<10**-10]=10**-10\n",
    "\n",
    "#Now use Eq. (9) to calculate the second term of Eq. (8). \n",
    "#Here time integral and both of the spatial integral are evaluated numerically\n",
    "\n",
    "S2_Eq9 = 0\n",
    "ptau=em_gt.p0_[0]\n",
    "for time in np.arange(0,t_terminal,deltaT):\n",
    "    KL=p*ptau*np.log(p/q) #KL divergence\n",
    "    S2_Eq9+=np.sum(np.sum(KL*em_gt.w_d,axis=1)*em_gt.w_d) #update time integral\n",
    "    ptau=np.sum(p*ptau*em_gt.w_d,axis=1) #update p_tau\n",
    "\n",
    "#The result is S2_Eq9 = 2.928\n",
    "    \n",
    "#Now let us compare this result with the second term in Eq. (8) evaluated by Eq.(22):\n",
    "Fs=em_gt.D_/4*Force**2\n",
    "Fd = Qx.T.dot(np.diag(em_gt.w_d)).dot(Fs*np.sqrt(em_gt.peq_[0]))\n",
    "rho0d= Qx.T.dot(np.diag(em_gt.w_d)).dot(em_gt.p0_[0]/np.sqrt(em_gt.peq_[0]))\n",
    "S2_Eq22=np.sum(Fd*rho0d/lQ) #The result is 2.947\n",
    "\n",
    "#Now let us compare this result with the second term in Eq. (8) evaluated by Eq.(21):\n",
    "Fs=-(em_gt.D_/4*Force**2+em_gt.D_/2*em_gt.dmat_d.dot(Force))\n",
    "Fd = Qx.T.dot(np.diag(em_gt.w_d)).dot(Fs*np.sqrt(em_gt.peq_[0]))\n",
    "rho0d= Qx.T.dot(np.diag(em_gt.w_d)).dot(em_gt.p0_[0]/np.sqrt(em_gt.peq_[0]))\n",
    "S2_Eq21=np.sum(Fd*rho0d/lQ) #The result is 2.947\n",
    "\n",
    "print('S2 term evaluated by Eq. 8,9: {}'.format(S2_Eq9))\n",
    "print('S2 term evaluated by Eq. 8,21: {}'.format(S2_Eq21))\n",
    "print('S2 term evaluated by Eq. 8,22: {}'.format(S2_Eq22))    \n"
   ]
  },
  {
   "cell_type": "code",
   "execution_count": 5,
   "id": "aaca2035",
   "metadata": {},
   "outputs": [],
   "source": [
    "p = Qx.dot(np.diag(np.exp(-lQ*deltaT))).dot(Qx.T).dot(np.diag(em_gt.w_d))"
   ]
  },
  {
   "cell_type": "code",
   "execution_count": 6,
   "id": "62c119d3",
   "metadata": {},
   "outputs": [],
   "source": [
    "p = np.sqrt(em_gt.peq_[0,:,np.newaxis])*p/np.sqrt(em_gt.peq_[0])"
   ]
  },
  {
   "cell_type": "code",
   "execution_count": 7,
   "id": "fa483bcb",
   "metadata": {},
   "outputs": [
    {
     "data": {
      "text/plain": [
       "(225, 1)"
      ]
     },
     "execution_count": 7,
     "metadata": {},
     "output_type": "execute_result"
    }
   ],
   "source": [
    "em_gt.peq_[0,:,np.newaxis].shape"
   ]
  },
  {
   "cell_type": "code",
   "execution_count": null,
   "id": "1f0e3d6b-d9d4-45aa-b20c-e0a3cb21efd7",
   "metadata": {},
   "outputs": [],
   "source": []
  }
 ],
 "metadata": {
  "kernelspec": {
   "display_name": "Python 3 (ipykernel)",
   "language": "python",
   "name": "python3"
  },
  "language_info": {
   "codemirror_mode": {
    "name": "ipython",
    "version": 3
   },
   "file_extension": ".py",
   "mimetype": "text/x-python",
   "name": "python",
   "nbconvert_exporter": "python",
   "pygments_lexer": "ipython3",
   "version": "3.12.1"
  }
 },
 "nbformat": 4,
 "nbformat_minor": 5
}
